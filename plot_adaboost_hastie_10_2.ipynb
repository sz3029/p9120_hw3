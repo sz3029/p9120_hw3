{
 "cells": [
  {
   "cell_type": "code",
   "execution_count": null,
   "metadata": {},
   "outputs": [],
   "source": [
    "%matplotlib inline"
   ]
  },
  {
   "cell_type": "markdown",
   "metadata": {},
   "source": [
    "\n",
    "# Discrete versus Real AdaBoost\n",
    "\n",
    "This notebook is based on Figure 10.2 from Hastie et al 2009 [1]_ and\n",
    "illustrates the difference in performance between the discrete SAMME [2]_\n",
    "boosting algorithm and real SAMME.R boosting algorithm. Both algorithms are\n",
    "evaluated on a binary classification task where the target Y is a non-linear\n",
    "function of 10 input features.\n",
    "\n",
    "Discrete SAMME AdaBoost adapts based on errors in predicted class labels\n",
    "whereas real SAMME.R uses the predicted class probabilities.\n",
    "\n",
    ".. [1] T. Hastie, R. Tibshirani and J. Friedman, \"Elements of Statistical\n",
    "    Learning Ed. 2\", Springer, 2009.\n",
    "\n",
    ".. [2] J Zhu, H. Zou, S. Rosset, T. Hastie, \"Multi-class AdaBoost\",\n",
    "    Statistics and Its Interface, 2009.\n"
   ]
  },
  {
   "cell_type": "markdown",
   "metadata": {},
   "source": [
    "## Preparing the data and baseline models\n",
    "We start by generating the binary classification dataset\n",
    "used in Hastie et al. 2009, Example 10.2.\n",
    "\n"
   ]
  },
  {
   "cell_type": "code",
   "execution_count": null,
   "metadata": {},
   "outputs": [],
   "source": [
    "# Authors: Peter Prettenhofer <peter.prettenhofer@gmail.com>,\n",
    "#          Noel Dawe <noel.dawe@gmail.com>\n",
    "#\n",
    "# License: BSD 3 clause\n",
    "\n",
    "from sklearn import datasets\n",
    "\n",
    "X, y = datasets.make_hastie_10_2(n_samples=12_000, random_state=1)"
   ]
  },
  {
   "cell_type": "markdown",
   "metadata": {},
   "source": [
    "Now, we set the hyperparameters for our AdaBoost classifiers."
   ]
  },
  {
   "cell_type": "code",
   "execution_count": null,
   "metadata": {},
   "outputs": [],
   "source": [
    "n_estimators = 400\n",
    "learning_rate = 1.0"
   ]
  },
  {
   "cell_type": "markdown",
   "metadata": {},
   "source": [
    "We split the data into a training and a test set.\n",
    "Then, we train our baseline classifiers, a `DecisionTreeClassifier` with `depth=9`\n",
    "and a \"stump\" `DecisionTreeClassifier` with `depth=1` and compute the test error.\n",
    "\n"
   ]
  },
  {
   "cell_type": "code",
   "execution_count": null,
   "metadata": {},
   "outputs": [],
   "source": [
    "from sklearn.model_selection import train_test_split\n",
    "from sklearn.tree import DecisionTreeClassifier\n",
    "\n",
    "X_train, X_test, y_train, y_test = train_test_split(\n",
    "    X, y, test_size=2_000, shuffle=False\n",
    ")\n",
    "\n",
    "dt_stump = DecisionTreeClassifier(max_depth=1, min_samples_leaf=1)\n",
    "dt_stump.fit(X_train, y_train)\n",
    "dt_stump_err = 1.0 - dt_stump.score(X_test, y_test)\n",
    "\n",
    "dt = DecisionTreeClassifier(max_depth=9, min_samples_leaf=1)\n",
    "dt.fit(X_train, y_train)\n",
    "dt_err = 1.0 - dt.score(X_test, y_test)"
   ]
  },
  {
   "cell_type": "markdown",
   "metadata": {},
   "source": [
    "## Adaboost with discrete SAMME and real SAMME.R\n",
    "We now define the discrete and real AdaBoost classifiers\n",
    "and fit them to the training set.\n",
    "\n"
   ]
  },
  {
   "cell_type": "code",
   "execution_count": null,
   "metadata": {},
   "outputs": [],
   "source": [
    "from sklearn.ensemble import AdaBoostClassifier\n",
    "\n",
    "ada_discrete = AdaBoostClassifier(\n",
    "    base_estimator=dt_stump,\n",
    "    learning_rate=learning_rate,\n",
    "    n_estimators=n_estimators,\n",
    "    algorithm=\"SAMME\",\n",
    ")\n",
    "ada_discrete.fit(X_train, y_train)"
   ]
  },
  {
   "cell_type": "code",
   "execution_count": null,
   "metadata": {},
   "outputs": [],
   "source": [
    "ada_real = AdaBoostClassifier(\n",
    "    base_estimator=dt_stump,\n",
    "    learning_rate=learning_rate,\n",
    "    n_estimators=n_estimators,\n",
    "    algorithm=\"SAMME.R\",\n",
    ")\n",
    "ada_real.fit(X_train, y_train)"
   ]
  },
  {
   "cell_type": "markdown",
   "metadata": {},
   "source": [
    "Now, let's compute the test error of the discrete and\n",
    "real AdaBoost classifiers for each new stump in `n_estimators`\n",
    "added to the ensemble.\n",
    "\n"
   ]
  },
  {
   "cell_type": "code",
   "execution_count": null,
   "metadata": {},
   "outputs": [],
   "source": [
    "import numpy as np\n",
    "from sklearn.metrics import zero_one_loss\n",
    "\n",
    "ada_discrete_err = np.zeros((n_estimators,))\n",
    "for i, y_pred in enumerate(ada_discrete.staged_predict(X_test)):\n",
    "    ada_discrete_err[i] = zero_one_loss(y_pred, y_test)\n",
    "\n",
    "ada_discrete_err_train = np.zeros((n_estimators,))\n",
    "for i, y_pred in enumerate(ada_discrete.staged_predict(X_train)):\n",
    "    ada_discrete_err_train[i] = zero_one_loss(y_pred, y_train)\n",
    "\n",
    "ada_real_err = np.zeros((n_estimators,))\n",
    "for i, y_pred in enumerate(ada_real.staged_predict(X_test)):\n",
    "    ada_real_err[i] = zero_one_loss(y_pred, y_test)\n",
    "\n",
    "ada_real_err_train = np.zeros((n_estimators,))\n",
    "for i, y_pred in enumerate(ada_real.staged_predict(X_train)):\n",
    "    ada_real_err_train[i] = zero_one_loss(y_pred, y_train)"
   ]
  },
  {
   "cell_type": "markdown",
   "metadata": {},
   "source": [
    "## Plotting the results\n",
    "Finally, we plot the train and test errors of our baselines\n",
    "and of the discrete and real AdaBoost classifiers\n",
    "\n"
   ]
  },
  {
   "cell_type": "code",
   "execution_count": null,
   "metadata": {},
   "outputs": [],
   "source": [
    "import matplotlib.pyplot as plt\n",
    "import seaborn as sns\n",
    "\n",
    "fig = plt.figure()\n",
    "ax = fig.add_subplot(111)\n",
    "\n",
    "ax.plot([1, n_estimators], [dt_stump_err] * 2, \"k-\", label=\"Decision Stump Error\")\n",
    "ax.plot([1, n_estimators], [dt_err] * 2, \"k--\", label=\"Decision Tree Error\")\n",
    "\n",
    "colors = sns.color_palette(\"colorblind\")\n",
    "\n",
    "ax.plot(\n",
    "    np.arange(n_estimators) + 1,\n",
    "    ada_discrete_err,\n",
    "    label=\"Discrete AdaBoost Test Error\",\n",
    "    color=colors[0],\n",
    ")\n",
    "ax.plot(\n",
    "    np.arange(n_estimators) + 1,\n",
    "    ada_discrete_err_train,\n",
    "    label=\"Discrete AdaBoost Train Error\",\n",
    "    color=colors[1],\n",
    ")\n",
    "ax.plot(\n",
    "    np.arange(n_estimators) + 1,\n",
    "    ada_real_err,\n",
    "    label=\"Real AdaBoost Test Error\",\n",
    "    color=colors[2],\n",
    ")\n",
    "ax.plot(\n",
    "    np.arange(n_estimators) + 1,\n",
    "    ada_real_err_train,\n",
    "    label=\"Real AdaBoost Train Error\",\n",
    "    color=colors[4],\n",
    ")\n",
    "\n",
    "ax.set_ylim((0.0, 0.5))\n",
    "ax.set_xlabel(\"Number of weak learners\")\n",
    "ax.set_ylabel(\"error rate\")\n",
    "\n",
    "leg = ax.legend(loc=\"upper right\", fancybox=True)\n",
    "leg.get_frame().set_alpha(0.7)\n",
    "\n",
    "plt.show()"
   ]
  },
  {
   "cell_type": "markdown",
   "metadata": {},
   "source": [
    "## Concluding remarks\n",
    "\n",
    "We observe that the error rate for both train and test sets of real AdaBoost\n",
    "is lower than that of discrete AdaBoost.\n",
    "\n"
   ]
  }
 ],
 "metadata": {
  "kernelspec": {
   "display_name": "Python 3 (ipykernel)",
   "language": "python",
   "name": "python3"
  },
  "language_info": {
   "codemirror_mode": {
    "name": "ipython",
    "version": 3
   },
   "file_extension": ".py",
   "mimetype": "text/x-python",
   "name": "python",
   "nbconvert_exporter": "python",
   "pygments_lexer": "ipython3",
   "version": "3.8.13"
  }
 },
 "nbformat": 4,
 "nbformat_minor": 1
}
